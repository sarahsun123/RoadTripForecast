{
 "cells": [
  {
   "cell_type": "code",
   "execution_count": 33,
   "metadata": {
    "collapsed": true
   },
   "outputs": [],
   "source": [
    "# Program to Obtain Weather Data from https://www.wunderground.com/\n",
    "# Authors: Sarah Sun, ______ (<== Add names)\n",
    "\n",
    "from urllib.request import Request, urlopen, URLError\n",
    "import requests\n",
    "import json\n",
    "import collections\n",
    "from pprint import pprint\n",
    "\n",
    "gen_website = \"http://api.wunderground.com/api/b0e8922794793983/conditions/q/CA/San_Francisco.json\"\n",
    "\n",
    "api_key = \"b0e8922794793983\""
   ]
  },
  {
   "cell_type": "code",
   "execution_count": 34,
   "metadata": {
    "collapsed": true
   },
   "outputs": [],
   "source": [
    "# Creates a list of website links based on list of tuples in format(City, state) (i.e (San_Francisco, CA))\n",
    "\n",
    "def website_link(city_state):\n",
    "    websites = []\n",
    "    for item in city_state:\n",
    "        websites.append(\"http://api.wunderground.com/api/b0e8922794793983/conditions/q/{0}/{1}.json\".format(item[1], item[0]))\n",
    "    return websites"
   ]
  },
  {
   "cell_type": "code",
   "execution_count": 35,
   "metadata": {
    "collapsed": true
   },
   "outputs": [],
   "source": [
    "# Opens provided Website Url from Json format into dictionary\n",
    "\n",
    "def open_url(website):\n",
    "    testing = Request(website)\n",
    "\n",
    "    try:\n",
    "        response = urlopen(testing)\n",
    "        json_string = response.read().decode(\"utf-8\")\n",
    "        data = json.loads(json_string)\n",
    "        return data\n",
    "\n",
    "    except URLError:\n",
    "        print('Got an error code:')"
   ]
  },
  {
   "cell_type": "code",
   "execution_count": 36,
   "metadata": {
    "collapsed": true
   },
   "outputs": [],
   "source": [
    "# Changes nested dictionary obtained from wunderground to an unnested dictionary\n",
    "\n",
    "def flatten_json(json):\n",
    "    if type(json) == dict:\n",
    "        for k, v in list(json.items()):\n",
    "            if type(v) == dict:\n",
    "                flatten_json(v)\n",
    "                json.pop(k)\n",
    "                for k2, v2 in v.items():\n",
    "                    json[k+\".\"+k2] = v2\n",
    "    return json"
   ]
  },
  {
   "cell_type": "code",
   "execution_count": 37,
   "metadata": {
    "collapsed": true
   },
   "outputs": [],
   "source": [
    "# Takes in a list of (City, States) and returns a list of weather conditions of the cities\n",
    "\n",
    "def get_weather(city_state_list):\n",
    "    websites = website_link(city_state_list)\n",
    "    data = [open_url(website) for website in websites]\n",
    "    weather_array = [flatten_json(d) for d in data]\n",
    "    weather_conditions = [weather.get('current_observation.weather') for weather in weather_array]\n",
    "    return weather_conditions"
   ]
  },
  {
   "cell_type": "code",
   "execution_count": 44,
   "metadata": {
    "collapsed": false
   },
   "outputs": [],
   "source": [
    "# Tests above methods to see if they work\n",
    "# Uncomment to see if they work\n",
    "\n",
    "#weather = get_weather([('San_Francisco', 'CA'), ('Berkeley', 'CA'), ('Stony_Brook', 'NY'), ('New_York', 'NY'), ('Los_Angeles', 'CA')])\n",
    "#print(weather)"
   ]
  },
  {
   "cell_type": "code",
   "execution_count": null,
   "metadata": {
    "collapsed": true
   },
   "outputs": [],
   "source": []
  }
 ],
 "metadata": {
  "anaconda-cloud": {},
  "kernelspec": {
   "display_name": "Python [Root]",
   "language": "python",
   "name": "Python [Root]"
  },
  "language_info": {
   "codemirror_mode": {
    "name": "ipython",
    "version": 3
   },
   "file_extension": ".py",
   "mimetype": "text/x-python",
   "name": "python",
   "nbconvert_exporter": "python",
   "pygments_lexer": "ipython3",
   "version": "3.5.2"
  }
 },
 "nbformat": 4,
 "nbformat_minor": 0
}
